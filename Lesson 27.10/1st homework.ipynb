{
 "cells": [
  {
   "cell_type": "markdown",
   "metadata": {},
   "source": [
    "# Привет. Наконец-то я вас всех нашел. Спасибо всем, кто мне откликнулся вчера.\n",
    "\n",
    "\n",
    "Как я и обещал - в этом сообщении будет ваше первое дз и организационная информация.\n",
    "\n",
    "1) Вся информация по курсу будет выкладываться вот сюда https://github.com/vlasove/Python\n",
    "Рекомендую ознакомиться с содержимым и посмотреть все ссылочки.\n",
    "\n",
    "\n",
    "2) Пожалуйста, заполните гугл-форму https://goo.gl/forms/V4xKZsOt19oP08cw1\n",
    "\n",
    "\n",
    "3) Первое дз - сразу в бой (но не сильно). Открываем мою любимую книжку http://do1.dr-chuck.com/pythonlearn/EN_us/pythonlearn.pdf\n",
    "\n",
    "\n",
    "И прорешиваем главы 6.1 - 6.4 и 8.1-8.5 ( тем самым повторим, что было на занятии).\n",
    "Позднее выложу тетрадку jupyter с примерами с лекции, но пока сосредоточтесь на книжке и полезных ресурсах на гите. \n",
    "Пока сдавать ничего не нужно (кроме гугл-формы).\n",
    "Если возникнут какие-то вопросы - пишите мне на почту. \n",
    "На неделе ждите рассылку про хакеров, что такое GoogleDevGroup и как стать тру девелопером на питоне."
   ]
  },
  {
   "cell_type": "code",
   "execution_count": null,
   "metadata": {},
   "outputs": [],
   "source": []
  }
 ],
 "metadata": {
  "kernelspec": {
   "display_name": "Python 3",
   "language": "python",
   "name": "python3"
  },
  "language_info": {
   "codemirror_mode": {
    "name": "ipython",
    "version": 3
   },
   "file_extension": ".py",
   "mimetype": "text/x-python",
   "name": "python",
   "nbconvert_exporter": "python",
   "pygments_lexer": "ipython3",
   "version": "3.6.6"
  }
 },
 "nbformat": 4,
 "nbformat_minor": 2
}
