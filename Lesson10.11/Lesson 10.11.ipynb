{
 "cells": [
  {
   "cell_type": "markdown",
   "metadata": {},
   "source": [
    "# Словарь - множество пар объектов типа 'key':'value'"
   ]
  },
  {
   "cell_type": "code",
   "execution_count": 13,
   "metadata": {},
   "outputs": [
    {
     "data": {
      "text/plain": [
       "dict"
      ]
     },
     "execution_count": 13,
     "metadata": {},
     "output_type": "execute_result"
    }
   ],
   "source": [
    "dict_ex = {}\n",
    "type(dict_ex)"
   ]
  },
  {
   "cell_type": "code",
   "execution_count": 14,
   "metadata": {},
   "outputs": [
    {
     "data": {
      "text/plain": [
       "dict"
      ]
     },
     "execution_count": 14,
     "metadata": {},
     "output_type": "execute_result"
    }
   ],
   "source": [
    "dict_ex2 = dict()\n",
    "type(dict_ex2)"
   ]
  },
  {
   "cell_type": "markdown",
   "metadata": {},
   "source": [
    "## Наполнение словарей"
   ]
  },
  {
   "cell_type": "code",
   "execution_count": 23,
   "metadata": {},
   "outputs": [],
   "source": [
    "pop = {'key1':['Jack','London'], 'key2': 30, 'key3' : 40}"
   ]
  },
  {
   "cell_type": "code",
   "execution_count": 24,
   "metadata": {},
   "outputs": [
    {
     "data": {
      "text/plain": [
       "['Jack', 'London']"
      ]
     },
     "execution_count": 24,
     "metadata": {},
     "output_type": "execute_result"
    }
   ],
   "source": [
    "pop['key1'] "
   ]
  },
  {
   "cell_type": "code",
   "execution_count": null,
   "metadata": {},
   "outputs": [],
   "source": []
  },
  {
   "cell_type": "code",
   "execution_count": 12,
   "metadata": {},
   "outputs": [
    {
     "data": {
      "text/plain": [
       "[4, 6, 8, 10, 12, 14, 16, 18]"
      ]
     },
     "execution_count": 12,
     "metadata": {},
     "output_type": "execute_result"
    }
   ],
   "source": []
  },
  {
   "cell_type": "markdown",
   "metadata": {},
   "source": [
    "## Функция len() и проверка вхождения in"
   ]
  },
  {
   "cell_type": "code",
   "execution_count": 35,
   "metadata": {},
   "outputs": [
    {
     "data": {
      "text/plain": [
       "3"
      ]
     },
     "execution_count": 35,
     "metadata": {},
     "output_type": "execute_result"
    }
   ],
   "source": [
    "len(pop)"
   ]
  },
  {
   "cell_type": "code",
   "execution_count": 30,
   "metadata": {},
   "outputs": [
    {
     "data": {
      "text/plain": [
       "True"
      ]
     },
     "execution_count": 30,
     "metadata": {},
     "output_type": "execute_result"
    }
   ],
   "source": [
    "'key1' in pop"
   ]
  },
  {
   "cell_type": "code",
   "execution_count": null,
   "metadata": {},
   "outputs": [],
   "source": []
  },
  {
   "cell_type": "code",
   "execution_count": null,
   "metadata": {},
   "outputs": [],
   "source": []
  },
  {
   "cell_type": "markdown",
   "metadata": {},
   "source": [
    "## dict.keys() ; dict.values(); dict.items()"
   ]
  },
  {
   "cell_type": "code",
   "execution_count": null,
   "metadata": {},
   "outputs": [],
   "source": []
  },
  {
   "cell_type": "code",
   "execution_count": null,
   "metadata": {},
   "outputs": [],
   "source": []
  },
  {
   "cell_type": "code",
   "execution_count": null,
   "metadata": {},
   "outputs": [],
   "source": []
  },
  {
   "cell_type": "code",
   "execution_count": 36,
   "metadata": {},
   "outputs": [],
   "source": [
    "pre = {'a':1, 'b':2}"
   ]
  },
  {
   "cell_type": "code",
   "execution_count": 37,
   "metadata": {},
   "outputs": [
    {
     "data": {
      "text/plain": [
       "dict_keys(['a', 'b'])"
      ]
     },
     "execution_count": 37,
     "metadata": {},
     "output_type": "execute_result"
    }
   ],
   "source": [
    "pre.keys()"
   ]
  },
  {
   "cell_type": "code",
   "execution_count": 38,
   "metadata": {},
   "outputs": [
    {
     "data": {
      "text/plain": [
       "dict_values([1, 2])"
      ]
     },
     "execution_count": 38,
     "metadata": {},
     "output_type": "execute_result"
    }
   ],
   "source": [
    "pre.values()"
   ]
  },
  {
   "cell_type": "code",
   "execution_count": 39,
   "metadata": {},
   "outputs": [
    {
     "data": {
      "text/plain": [
       "dict_items([('a', 1), ('b', 2)])"
      ]
     },
     "execution_count": 39,
     "metadata": {},
     "output_type": "execute_result"
    }
   ],
   "source": [
    "pre.items()"
   ]
  },
  {
   "cell_type": "code",
   "execution_count": 42,
   "metadata": {},
   "outputs": [
    {
     "name": "stdout",
     "output_type": "stream",
     "text": [
      "a 1\n",
      "b 2\n"
     ]
    }
   ],
   "source": [
    "for key,val in pre.items():\n",
    "    print(key,val)"
   ]
  },
  {
   "cell_type": "code",
   "execution_count": null,
   "metadata": {},
   "outputs": [],
   "source": []
  },
  {
   "cell_type": "code",
   "execution_count": null,
   "metadata": {},
   "outputs": [],
   "source": []
  },
  {
   "cell_type": "markdown",
   "metadata": {},
   "source": [
    "# Парадигма мешка слов"
   ]
  },
  {
   "cell_type": "code",
   "execution_count": 45,
   "metadata": {},
   "outputs": [],
   "source": [
    "try:\n",
    "    fhand = open('text.txt')\n",
    "except:\n",
    "    print('Error in :', 'text.txt')\n",
    "    exit()\n"
   ]
  },
  {
   "cell_type": "code",
   "execution_count": 46,
   "metadata": {},
   "outputs": [],
   "source": [
    "fhand?"
   ]
  },
  {
   "cell_type": "code",
   "execution_count": 30,
   "metadata": {},
   "outputs": [
    {
     "name": "stdout",
     "output_type": "stream",
     "text": [
      "['o', 'wild', 'west', 'wind,', 'thou', 'breath', 'of', 'autumn’s', 'being,']\n",
      "['thou,', 'from', 'whose', 'unseen', 'presence', 'the', 'leaves', 'dead']\n",
      "['are', 'driven,', 'like', 'ghosts', 'from', 'an', 'enchanter', 'fleeing,']\n",
      "['yellow,', 'and', 'black,', 'and', 'pale,', 'and', 'hectic', 'red,']\n",
      "['pestilence-stricken', 'multitudes:', '0', 'thou,']\n",
      "['who', 'chariotest', 'to', 'their', 'dark', 'wintry', 'bed']\n",
      "['the', 'winged', 'seeds,', 'where', 'they', 'lie', 'cold', 'and', 'low,']\n",
      "['each', 'like', 'a', 'corpse', 'within', 'its', 'grave,', 'until']\n",
      "['thine', 'azure', 'sister', 'of', 'the', 'spring', 'shall', 'blow']\n",
      "['her', 'clarion', 'o’er', 'the', 'dreaming', 'earth,', 'and', 'fill']\n",
      "['(driving', 'sweet', 'buds', 'like', 'flocks', 'to', 'feed', 'in', 'air)']\n",
      "['with', 'living', 'hues', 'and', 'odours', 'plain', 'and', 'hill:']\n",
      "['wild', 'spirit,', 'which', 'art', 'moving', 'everywhere;']\n",
      "['destroyer', 'and', 'preserver;', 'hear,', '0', 'hear!']\n"
     ]
    }
   ],
   "source": [
    "counts = {}\n",
    "for line in fhand:\n",
    "    words = line.lower().split()\n",
    "    print(words)"
   ]
  },
  {
   "cell_type": "code",
   "execution_count": 47,
   "metadata": {},
   "outputs": [
    {
     "data": {
      "text/plain": [
       "{'o': 1,\n",
       " 'wild': 2,\n",
       " 'west': 1,\n",
       " 'wind,': 1,\n",
       " 'thou': 1,\n",
       " 'breath': 1,\n",
       " 'of': 2,\n",
       " 'autumn’s': 1,\n",
       " 'being,': 1,\n",
       " 'thou,': 2,\n",
       " 'from': 2,\n",
       " 'whose': 1,\n",
       " 'unseen': 1,\n",
       " 'presence': 1,\n",
       " 'the': 4,\n",
       " 'leaves': 1,\n",
       " 'dead': 1,\n",
       " 'are': 1,\n",
       " 'driven,': 1,\n",
       " 'like': 3,\n",
       " 'ghosts': 1,\n",
       " 'an': 1,\n",
       " 'enchanter': 1,\n",
       " 'fleeing,': 1,\n",
       " 'yellow,': 1,\n",
       " 'and': 8,\n",
       " 'black,': 1,\n",
       " 'pale,': 1,\n",
       " 'hectic': 1,\n",
       " 'red,': 1,\n",
       " 'pestilence-stricken': 1,\n",
       " 'multitudes:': 1,\n",
       " '0': 2,\n",
       " 'who': 1,\n",
       " 'chariotest': 1,\n",
       " 'to': 2,\n",
       " 'their': 1,\n",
       " 'dark': 1,\n",
       " 'wintry': 1,\n",
       " 'bed': 1,\n",
       " 'winged': 1,\n",
       " 'seeds,': 1,\n",
       " 'where': 1,\n",
       " 'they': 1,\n",
       " 'lie': 1,\n",
       " 'cold': 1,\n",
       " 'low,': 1,\n",
       " 'each': 1,\n",
       " 'a': 1,\n",
       " 'corpse': 1,\n",
       " 'within': 1,\n",
       " 'its': 1,\n",
       " 'grave,': 1,\n",
       " 'until': 1,\n",
       " 'thine': 1,\n",
       " 'azure': 1,\n",
       " 'sister': 1,\n",
       " 'spring': 1,\n",
       " 'shall': 1,\n",
       " 'blow': 1,\n",
       " 'her': 1,\n",
       " 'clarion': 1,\n",
       " 'o’er': 1,\n",
       " 'dreaming': 1,\n",
       " 'earth,': 1,\n",
       " 'fill': 1,\n",
       " '(driving': 1,\n",
       " 'sweet': 1,\n",
       " 'buds': 1,\n",
       " 'flocks': 1,\n",
       " 'feed': 1,\n",
       " 'in': 1,\n",
       " 'air)': 1,\n",
       " 'with': 1,\n",
       " 'living': 1,\n",
       " 'hues': 1,\n",
       " 'odours': 1,\n",
       " 'plain': 1,\n",
       " 'hill:': 1,\n",
       " 'spirit,': 1,\n",
       " 'which': 1,\n",
       " 'art': 1,\n",
       " 'moving': 1,\n",
       " 'everywhere;': 1,\n",
       " 'destroyer': 1,\n",
       " 'preserver;': 1,\n",
       " 'hear,': 1,\n",
       " 'hear!': 1}"
      ]
     },
     "execution_count": 47,
     "metadata": {},
     "output_type": "execute_result"
    }
   ],
   "source": [
    "## HW1 (help 9.4 in book)\n",
    "\n",
    "try:\n",
    "    fhand = open('text.txt')\n",
    "except:\n",
    "    print('Error in :', 'text.txt')\n",
    "    exit()\n",
    "\n",
    "\n",
    "\n",
    "counts = {}\n",
    "for line in fhand:\n",
    "    words = line.lower().split()\n",
    "    for i in words:\n",
    "        if i not in counts:\n",
    "            counts[i] = 1\n",
    "            \n",
    "        else:\n",
    "            counts[i] = counts[i] + 1\n",
    "            \n",
    "\n",
    "   \n",
    "            \n",
    "counts"
   ]
  },
  {
   "cell_type": "code",
   "execution_count": 49,
   "metadata": {},
   "outputs": [
    {
     "name": "stdout",
     "output_type": "stream",
     "text": [
      "o 1\n",
      "wild 2\n",
      "west 1\n",
      "wind, 1\n",
      "thou 1\n",
      "breath 1\n",
      "of 2\n",
      "autumn’s 1\n",
      "being, 1\n",
      "thou, 2\n",
      "from 2\n",
      "whose 1\n",
      "unseen 1\n",
      "presence 1\n",
      "the 4\n",
      "leaves 1\n",
      "dead 1\n",
      "are 1\n",
      "driven, 1\n",
      "like 3\n",
      "ghosts 1\n",
      "an 1\n",
      "enchanter 1\n",
      "fleeing, 1\n",
      "yellow, 1\n",
      "and 8\n",
      "black, 1\n",
      "pale, 1\n",
      "hectic 1\n",
      "red, 1\n",
      "pestilence-stricken 1\n",
      "multitudes: 1\n",
      "0 2\n",
      "who 1\n",
      "chariotest 1\n",
      "to 2\n",
      "their 1\n",
      "dark 1\n",
      "wintry 1\n",
      "bed 1\n",
      "winged 1\n",
      "seeds, 1\n",
      "where 1\n",
      "they 1\n",
      "lie 1\n",
      "cold 1\n",
      "low, 1\n",
      "each 1\n",
      "a 1\n",
      "corpse 1\n",
      "within 1\n",
      "its 1\n",
      "grave, 1\n",
      "until 1\n",
      "thine 1\n",
      "azure 1\n",
      "sister 1\n",
      "spring 1\n",
      "shall 1\n",
      "blow 1\n",
      "her 1\n",
      "clarion 1\n",
      "o’er 1\n",
      "dreaming 1\n",
      "earth, 1\n",
      "fill 1\n",
      "(driving 1\n",
      "sweet 1\n",
      "buds 1\n",
      "flocks 1\n",
      "feed 1\n",
      "in 1\n",
      "air) 1\n",
      "with 1\n",
      "living 1\n",
      "hues 1\n",
      "odours 1\n",
      "plain 1\n",
      "hill: 1\n",
      "spirit, 1\n",
      "which 1\n",
      "art 1\n",
      "moving 1\n",
      "everywhere; 1\n",
      "destroyer 1\n",
      "preserver; 1\n",
      "hear, 1\n",
      "hear! 1\n"
     ]
    }
   ],
   "source": [
    "for i,j in counts.items():\n",
    "    print (i, j)"
   ]
  },
  {
   "cell_type": "markdown",
   "metadata": {},
   "source": [
    "## Метод .get() и zip()"
   ]
  },
  {
   "cell_type": "code",
   "execution_count": 51,
   "metadata": {},
   "outputs": [
    {
     "name": "stdout",
     "output_type": "stream",
     "text": [
      "{'a': 4, 'm': 1, 's': 3, 'n': 1, 'd': 1, 'k': 1, 'j': 4, 'f': 2, 'h': 1}\n"
     ]
    }
   ],
   "source": [
    "large_word = 'amsndkjafhajsjasfj'\n",
    "\n",
    "letters_counter = {}\n",
    "for c in large_word:\n",
    "   letters_counter[c] = letters_counter.get(c,0) + 1\n",
    "        \n",
    "print(letters_counter)\n",
    "\n",
    "        \n"
   ]
  },
  {
   "cell_type": "code",
   "execution_count": 44,
   "metadata": {},
   "outputs": [
    {
     "data": {
      "text/plain": [
       "{}"
      ]
     },
     "execution_count": 44,
     "metadata": {},
     "output_type": "execute_result"
    }
   ],
   "source": [
    "#dict.zip()\n",
    "\n",
    "names = {}\n",
    "ages = {}\n",
    "\n"
   ]
  },
  {
   "cell_type": "markdown",
   "metadata": {},
   "source": [
    "## Сортировка словарей?"
   ]
  },
  {
   "cell_type": "code",
   "execution_count": 53,
   "metadata": {},
   "outputs": [],
   "source": [
    "pop['key1'] = 10"
   ]
  },
  {
   "cell_type": "code",
   "execution_count": 54,
   "metadata": {},
   "outputs": [
    {
     "data": {
      "text/plain": [
       "{'key1': 10, 'key2': 30, 'key3': 40}"
      ]
     },
     "execution_count": 54,
     "metadata": {},
     "output_type": "execute_result"
    }
   ],
   "source": [
    "pop"
   ]
  },
  {
   "cell_type": "code",
   "execution_count": 62,
   "metadata": {},
   "outputs": [],
   "source": [
    "sort_list = ['sjdhf','sdf','asdh']"
   ]
  },
  {
   "cell_type": "code",
   "execution_count": 63,
   "metadata": {},
   "outputs": [],
   "source": [
    "sort_list.sort()"
   ]
  },
  {
   "cell_type": "code",
   "execution_count": 64,
   "metadata": {},
   "outputs": [
    {
     "data": {
      "text/plain": [
       "['asdh', 'sdf', 'sjdhf']"
      ]
     },
     "execution_count": 64,
     "metadata": {},
     "output_type": "execute_result"
    }
   ],
   "source": [
    "sort_list"
   ]
  },
  {
   "cell_type": "code",
   "execution_count": 65,
   "metadata": {},
   "outputs": [
    {
     "ename": "AttributeError",
     "evalue": "'dict' object has no attribute 'sort'",
     "output_type": "error",
     "traceback": [
      "\u001b[1;31m---------------------------------------------------------------------------\u001b[0m",
      "\u001b[1;31mAttributeError\u001b[0m                            Traceback (most recent call last)",
      "\u001b[1;32m<ipython-input-65-0b1131472045>\u001b[0m in \u001b[0;36m<module>\u001b[1;34m\u001b[0m\n\u001b[1;32m----> 1\u001b[1;33m \u001b[0mpop\u001b[0m\u001b[1;33m.\u001b[0m\u001b[0msort\u001b[0m\u001b[1;33m(\u001b[0m\u001b[1;33m)\u001b[0m\u001b[1;33m\u001b[0m\u001b[1;33m\u001b[0m\u001b[0m\n\u001b[0m",
      "\u001b[1;31mAttributeError\u001b[0m: 'dict' object has no attribute 'sort'"
     ]
    }
   ],
   "source": [
    "pop.sort()"
   ]
  },
  {
   "cell_type": "code",
   "execution_count": null,
   "metadata": {},
   "outputs": [],
   "source": []
  }
 ],
 "metadata": {
  "kernelspec": {
   "display_name": "Python 3",
   "language": "python",
   "name": "python3"
  },
  "language_info": {
   "codemirror_mode": {
    "name": "ipython",
    "version": 3
   },
   "file_extension": ".py",
   "mimetype": "text/x-python",
   "name": "python",
   "nbconvert_exporter": "python",
   "pygments_lexer": "ipython3",
   "version": "3.7.1"
  }
 },
 "nbformat": 4,
 "nbformat_minor": 2
}
