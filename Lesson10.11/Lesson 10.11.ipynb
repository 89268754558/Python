{
 "cells": [
  {
   "cell_type": "markdown",
   "metadata": {},
   "source": [
    "# Словарь - множество пар объектов типа 'key':'value'"
   ]
  },
  {
   "cell_type": "code",
   "execution_count": 1,
   "metadata": {},
   "outputs": [
    {
     "data": {
      "text/plain": [
       "dict"
      ]
     },
     "execution_count": 1,
     "metadata": {},
     "output_type": "execute_result"
    }
   ],
   "source": [
    "dict_ex = {}\n",
    "type(dict_ex)"
   ]
  },
  {
   "cell_type": "code",
   "execution_count": 2,
   "metadata": {},
   "outputs": [
    {
     "data": {
      "text/plain": [
       "dict"
      ]
     },
     "execution_count": 2,
     "metadata": {},
     "output_type": "execute_result"
    }
   ],
   "source": [
    "dict_ex2 = dict()\n",
    "type(dict_ex2)"
   ]
  },
  {
   "cell_type": "markdown",
   "metadata": {},
   "source": [
    "## Наполнение словарей"
   ]
  },
  {
   "cell_type": "code",
   "execution_count": null,
   "metadata": {},
   "outputs": [],
   "source": []
  },
  {
   "cell_type": "code",
   "execution_count": null,
   "metadata": {},
   "outputs": [],
   "source": []
  },
  {
   "cell_type": "markdown",
   "metadata": {},
   "source": [
    "## Функция len() и проверка вхождения in"
   ]
  },
  {
   "cell_type": "code",
   "execution_count": null,
   "metadata": {},
   "outputs": [],
   "source": []
  },
  {
   "cell_type": "markdown",
   "metadata": {},
   "source": [
    "## dict.keys() ; dict.values(); dict.items()"
   ]
  },
  {
   "cell_type": "code",
   "execution_count": 4,
   "metadata": {},
   "outputs": [],
   "source": [
    "pre = {'a':1, 'b':2}"
   ]
  },
  {
   "cell_type": "code",
   "execution_count": 5,
   "metadata": {},
   "outputs": [
    {
     "data": {
      "text/plain": [
       "dict_keys(['a', 'b'])"
      ]
     },
     "execution_count": 5,
     "metadata": {},
     "output_type": "execute_result"
    }
   ],
   "source": [
    "pre.keys()"
   ]
  },
  {
   "cell_type": "code",
   "execution_count": 6,
   "metadata": {},
   "outputs": [
    {
     "data": {
      "text/plain": [
       "dict_values([1, 2])"
      ]
     },
     "execution_count": 6,
     "metadata": {},
     "output_type": "execute_result"
    }
   ],
   "source": [
    "pre.values()"
   ]
  },
  {
   "cell_type": "code",
   "execution_count": 11,
   "metadata": {},
   "outputs": [
    {
     "data": {
      "text/plain": [
       "dict_items([('a', 1), ('b', 2)])"
      ]
     },
     "execution_count": 11,
     "metadata": {},
     "output_type": "execute_result"
    }
   ],
   "source": [
    "pre.items()"
   ]
  },
  {
   "cell_type": "markdown",
   "metadata": {},
   "source": [
    "# Парадигма мешка слов"
   ]
  },
  {
   "cell_type": "code",
   "execution_count": 29,
   "metadata": {},
   "outputs": [],
   "source": [
    "try:\n",
    "    fhand = open('text.txt')\n",
    "except:\n",
    "    print('Error in :', 'text.txt')\n",
    "    exit()\n"
   ]
  },
  {
   "cell_type": "code",
   "execution_count": 16,
   "metadata": {},
   "outputs": [],
   "source": [
    "fhand?"
   ]
  },
  {
   "cell_type": "code",
   "execution_count": 30,
   "metadata": {},
   "outputs": [
    {
     "name": "stdout",
     "output_type": "stream",
     "text": [
      "['o', 'wild', 'west', 'wind,', 'thou', 'breath', 'of', 'autumn’s', 'being,']\n",
      "['thou,', 'from', 'whose', 'unseen', 'presence', 'the', 'leaves', 'dead']\n",
      "['are', 'driven,', 'like', 'ghosts', 'from', 'an', 'enchanter', 'fleeing,']\n",
      "['yellow,', 'and', 'black,', 'and', 'pale,', 'and', 'hectic', 'red,']\n",
      "['pestilence-stricken', 'multitudes:', '0', 'thou,']\n",
      "['who', 'chariotest', 'to', 'their', 'dark', 'wintry', 'bed']\n",
      "['the', 'winged', 'seeds,', 'where', 'they', 'lie', 'cold', 'and', 'low,']\n",
      "['each', 'like', 'a', 'corpse', 'within', 'its', 'grave,', 'until']\n",
      "['thine', 'azure', 'sister', 'of', 'the', 'spring', 'shall', 'blow']\n",
      "['her', 'clarion', 'o’er', 'the', 'dreaming', 'earth,', 'and', 'fill']\n",
      "['(driving', 'sweet', 'buds', 'like', 'flocks', 'to', 'feed', 'in', 'air)']\n",
      "['with', 'living', 'hues', 'and', 'odours', 'plain', 'and', 'hill:']\n",
      "['wild', 'spirit,', 'which', 'art', 'moving', 'everywhere;']\n",
      "['destroyer', 'and', 'preserver;', 'hear,', '0', 'hear!']\n"
     ]
    }
   ],
   "source": [
    "counts = {}\n",
    "for line in fhand:\n",
    "    words = line.lower().split()\n",
    "    print(words)"
   ]
  },
  {
   "cell_type": "code",
   "execution_count": 32,
   "metadata": {},
   "outputs": [
    {
     "data": {
      "text/plain": [
       "{'o': 1,\n",
       " 'wild': 2,\n",
       " 'west': 1,\n",
       " 'wind,': 1,\n",
       " 'thou': 1,\n",
       " 'breath': 1,\n",
       " 'of': 2,\n",
       " 'autumn’s': 1,\n",
       " 'being,': 1,\n",
       " 'thou,': 2,\n",
       " 'from': 2,\n",
       " 'whose': 1,\n",
       " 'unseen': 1,\n",
       " 'presence': 1,\n",
       " 'the': 4,\n",
       " 'leaves': 1,\n",
       " 'dead': 1,\n",
       " 'are': 1,\n",
       " 'driven,': 1,\n",
       " 'like': 3,\n",
       " 'ghosts': 1,\n",
       " 'an': 1,\n",
       " 'enchanter': 1,\n",
       " 'fleeing,': 1,\n",
       " 'yellow,': 1,\n",
       " 'and': 8,\n",
       " 'black,': 1,\n",
       " 'pale,': 1,\n",
       " 'hectic': 1,\n",
       " 'red,': 1,\n",
       " 'pestilence-stricken': 1,\n",
       " 'multitudes:': 1,\n",
       " '0': 2,\n",
       " 'who': 1,\n",
       " 'chariotest': 1,\n",
       " 'to': 2,\n",
       " 'their': 1,\n",
       " 'dark': 1,\n",
       " 'wintry': 1,\n",
       " 'bed': 1,\n",
       " 'winged': 1,\n",
       " 'seeds,': 1,\n",
       " 'where': 1,\n",
       " 'they': 1,\n",
       " 'lie': 1,\n",
       " 'cold': 1,\n",
       " 'low,': 1,\n",
       " 'each': 1,\n",
       " 'a': 1,\n",
       " 'corpse': 1,\n",
       " 'within': 1,\n",
       " 'its': 1,\n",
       " 'grave,': 1,\n",
       " 'until': 1,\n",
       " 'thine': 1,\n",
       " 'azure': 1,\n",
       " 'sister': 1,\n",
       " 'spring': 1,\n",
       " 'shall': 1,\n",
       " 'blow': 1,\n",
       " 'her': 1,\n",
       " 'clarion': 1,\n",
       " 'o’er': 1,\n",
       " 'dreaming': 1,\n",
       " 'earth,': 1,\n",
       " 'fill': 1,\n",
       " '(driving': 1,\n",
       " 'sweet': 1,\n",
       " 'buds': 1,\n",
       " 'flocks': 1,\n",
       " 'feed': 1,\n",
       " 'in': 1,\n",
       " 'air)': 1,\n",
       " 'with': 1,\n",
       " 'living': 1,\n",
       " 'hues': 1,\n",
       " 'odours': 1,\n",
       " 'plain': 1,\n",
       " 'hill:': 1,\n",
       " 'spirit,': 1,\n",
       " 'which': 1,\n",
       " 'art': 1,\n",
       " 'moving': 1,\n",
       " 'everywhere;': 1,\n",
       " 'destroyer': 1,\n",
       " 'preserver;': 1,\n",
       " 'hear,': 1,\n",
       " 'hear!': 1}"
      ]
     },
     "execution_count": 32,
     "metadata": {},
     "output_type": "execute_result"
    }
   ],
   "source": [
    "## HW1 (help 9.4 in book)\n",
    "\n",
    "try:\n",
    "    fhand = open('text.txt')\n",
    "except:\n",
    "    print('Error in :', 'text.txt')\n",
    "    exit()\n",
    "\n",
    "\n",
    "\n",
    "counts = {}\n",
    "for line in fhand:\n",
    "    words = line.lower().split()\n",
    "   \n",
    "            \n",
    "counts"
   ]
  },
  {
   "cell_type": "markdown",
   "metadata": {},
   "source": [
    "## Метод .get() и zip()"
   ]
  },
  {
   "cell_type": "code",
   "execution_count": 42,
   "metadata": {},
   "outputs": [
    {
     "data": {
      "text/plain": [
       "{'a': 4, 'm': 1, 's': 3, 'n': 1, 'd': 1, 'k': 1, 'j': 4, 'f': 2, 'h': 1}"
      ]
     },
     "execution_count": 42,
     "metadata": {},
     "output_type": "execute_result"
    }
   ],
   "source": [
    "large_word = 'amsndkjafhajsjasfj'\n",
    "\n",
    "letters_counter = {}\n",
    "for c in large_word:\n",
    "    if c not in letters_counter:\n",
    "        letters_counter[c] = 1\n",
    "    else:\n",
    "        letters_counter[c] = letters_counter[c] + 1\n",
    "        \n",
    "letters_counter\n",
    "\n",
    "        \n"
   ]
  },
  {
   "cell_type": "code",
   "execution_count": 44,
   "metadata": {},
   "outputs": [
    {
     "data": {
      "text/plain": [
       "{}"
      ]
     },
     "execution_count": 44,
     "metadata": {},
     "output_type": "execute_result"
    }
   ],
   "source": [
    "#dict(zip())\n",
    "\n",
    "names = {}\n",
    "ages = {}\n",
    "\n"
   ]
  },
  {
   "cell_type": "markdown",
   "metadata": {},
   "source": [
    "## Сортировка словарей?"
   ]
  },
  {
   "cell_type": "code",
   "execution_count": null,
   "metadata": {},
   "outputs": [],
   "source": []
  }
 ],
 "metadata": {
  "kernelspec": {
   "display_name": "Python 3",
   "language": "python",
   "name": "python3"
  },
  "language_info": {
   "codemirror_mode": {
    "name": "ipython",
    "version": 3
   },
   "file_extension": ".py",
   "mimetype": "text/x-python",
   "name": "python",
   "nbconvert_exporter": "python",
   "pygments_lexer": "ipython3",
   "version": "3.7.1"
  }
 },
 "nbformat": 4,
 "nbformat_minor": 2
}
